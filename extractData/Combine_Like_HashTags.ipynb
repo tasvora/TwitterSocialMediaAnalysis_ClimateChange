{
 "cells": [
  {
   "cell_type": "markdown",
   "metadata": {},
   "source": [
    "# Utility Class 2\n",
    "\n",
    "***Some hashtags had to be searched in various combinations, and hence this class helps to combine them toghether***"
   ]
  },
  {
   "cell_type": "code",
   "execution_count": 1,
   "metadata": {},
   "outputs": [],
   "source": [
    "import pandas as pd\n",
    "import re\n",
    "import matplotlib.pyplot as plt"
   ]
  },
  {
   "cell_type": "code",
   "execution_count": 2,
   "metadata": {},
   "outputs": [
    {
     "data": {
      "text/plain": [
       "72405"
      ]
     },
     "execution_count": 2,
     "metadata": {},
     "output_type": "execute_result"
    }
   ],
   "source": [
    "tweet_df = pd.read_csv('../data/TwitterData/2019/combine/climateTwitterData.csv')\n",
    "\n",
    "tweet_df = tweet_df[tweet_df['text'].notna()]\n",
    "len(tweet_df)"
   ]
  },
  {
   "cell_type": "code",
   "execution_count": 3,
   "metadata": {},
   "outputs": [
    {
     "name": "stdout",
     "output_type": "stream",
     "text": [
      "15\n"
     ]
    },
    {
     "data": {
      "text/plain": [
       "array(['#climateStrike', '#climatestrike', '#climatechange',\n",
       "       '#GreenNewDeal', '#climatecrisis', '#climateAction',\n",
       "       '#FridaysForFuture', '#environment', '#globalwarming',\n",
       "       '#GlobalWarming', '#ActOnClimate', '#sustainability',\n",
       "       '#savetheplanet', '#bushfires', '#bushfiresAustralia'],\n",
       "      dtype=object)"
      ]
     },
     "execution_count": 3,
     "metadata": {},
     "output_type": "execute_result"
    }
   ],
   "source": [
    "list_terms = tweet_df['search_hashtags'].unique()\n",
    "print(len(list_terms))\n",
    "list_terms"
   ]
  },
  {
   "cell_type": "code",
   "execution_count": 4,
   "metadata": {},
   "outputs": [],
   "source": [
    "tweet_df['search_hashtags'] = tweet_df['search_hashtags'].str.lower()"
   ]
  },
  {
   "cell_type": "code",
   "execution_count": 5,
   "metadata": {},
   "outputs": [
    {
     "name": "stdout",
     "output_type": "stream",
     "text": [
      "13\n"
     ]
    },
    {
     "data": {
      "text/plain": [
       "array(['#climatestrike', '#climatechange', '#greennewdeal',\n",
       "       '#climatecrisis', '#climateaction', '#fridaysforfuture',\n",
       "       '#environment', '#globalwarming', '#actonclimate',\n",
       "       '#sustainability', '#savetheplanet', '#bushfires',\n",
       "       '#bushfiresaustralia'], dtype=object)"
      ]
     },
     "execution_count": 5,
     "metadata": {},
     "output_type": "execute_result"
    }
   ],
   "source": [
    "list_terms = tweet_df['search_hashtags'].unique()\n",
    "print(len(list_terms))\n",
    "list_terms"
   ]
  },
  {
   "cell_type": "code",
   "execution_count": 6,
   "metadata": {},
   "outputs": [
    {
     "data": {
      "text/plain": [
       "#climatestrike         18355\n",
       "#climatechange         16190\n",
       "#climateaction          6378\n",
       "#sustainability         5790\n",
       "#climatecrisis          4982\n",
       "#environment            4703\n",
       "#greennewdeal           4589\n",
       "#globalwarming          4152\n",
       "#fridaysforfuture       3038\n",
       "#actonclimate           1895\n",
       "#savetheplanet          1434\n",
       "#bushfires               885\n",
       "#bushfiresaustralia       14\n",
       "Name: search_hashtags, dtype: int64"
      ]
     },
     "execution_count": 6,
     "metadata": {},
     "output_type": "execute_result"
    }
   ],
   "source": [
    "tweet_df['search_hashtags'].value_counts()"
   ]
  },
  {
   "cell_type": "code",
   "execution_count": 7,
   "metadata": {},
   "outputs": [],
   "source": [
    "# if tweet_df['search_hashtags'] == '#bushfiresaustralia':\n",
    "#     tweet_df['search_hashtags'] = '#bushfires'\n",
    "for i in range(len(tweet_df)) : \n",
    "    if tweet_df.loc[i, 'search_hashtags'] == '#bushfiresaustralia':\n",
    "        tweet_df.loc[i, 'search_hashtags'] = '#bushfires'\n",
    "        \n",
    "   \n"
   ]
  },
  {
   "cell_type": "code",
   "execution_count": 8,
   "metadata": {},
   "outputs": [
    {
     "data": {
      "text/plain": [
       "#climatestrike       18355\n",
       "#climatechange       16190\n",
       "#climateaction        6378\n",
       "#sustainability       5790\n",
       "#climatecrisis        4982\n",
       "#environment          4703\n",
       "#greennewdeal         4589\n",
       "#globalwarming        4152\n",
       "#fridaysforfuture     3038\n",
       "#actonclimate         1895\n",
       "#savetheplanet        1434\n",
       "#bushfires             899\n",
       "Name: search_hashtags, dtype: int64"
      ]
     },
     "execution_count": 8,
     "metadata": {},
     "output_type": "execute_result"
    }
   ],
   "source": [
    "tweet_df['search_hashtags'].value_counts()"
   ]
  },
  {
   "cell_type": "code",
   "execution_count": 9,
   "metadata": {},
   "outputs": [],
   "source": [
    "tweet_df.to_csv('../data/TwitterData/2019/combine/climateTwitterData_Updated.csv')"
   ]
  },
  {
   "cell_type": "code",
   "execution_count": null,
   "metadata": {},
   "outputs": [],
   "source": []
  }
 ],
 "metadata": {
  "kernelspec": {
   "display_name": "Python 3",
   "language": "python",
   "name": "python3"
  },
  "language_info": {
   "codemirror_mode": {
    "name": "ipython",
    "version": 3
   },
   "file_extension": ".py",
   "mimetype": "text/x-python",
   "name": "python",
   "nbconvert_exporter": "python",
   "pygments_lexer": "ipython3",
   "version": "3.7.4"
  }
 },
 "nbformat": 4,
 "nbformat_minor": 4
}
