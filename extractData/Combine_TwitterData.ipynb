{
 "cells": [
  {
   "cell_type": "code",
   "execution_count": 1,
   "metadata": {},
   "outputs": [],
   "source": [
    "import os\n",
    "import glob\n",
    "import pandas as pd\n",
    "\n"
   ]
  },
  {
   "cell_type": "code",
   "execution_count": 2,
   "metadata": {},
   "outputs": [],
   "source": [
    "os.chdir(\"C:/DataAnalyticsGitLab/Projects/Analysis/data/TwitterData/2019\")\n",
    "\n",
    "#delete existing glassdoor.csv\n",
    "#os.remove(\"climateTwitterData.csv\")"
   ]
  },
  {
   "cell_type": "code",
   "execution_count": 3,
   "metadata": {},
   "outputs": [
    {
     "data": {
      "text/plain": [
       "['all_tweets_California_2019.csv',\n",
       " 'all_tweets_Chicago_2019.csv',\n",
       " 'all_tweets_Ciaro_2019.csv',\n",
       " 'all_tweets_Delhi_2019.csv',\n",
       " 'all_tweets_Florida_2019.csv',\n",
       " 'all_tweets_Melbourne_2019.csv',\n",
       " 'all_tweets_Mexico_2019.csv',\n",
       " 'all_tweets_Moscow_2019.csv',\n",
       " 'all_tweets_Mumbai_2019.csv',\n",
       " 'all_tweets_NewYork_2019.csv',\n",
       " 'all_tweets_Paris_2019.csv',\n",
       " 'all_tweets_Shangai_2019.csv',\n",
       " 'all_tweets_Sweden_2019.csv',\n",
       " 'all_tweets_Sydney_2019.csv',\n",
       " 'all_tweets_Washington_2019.csv']"
      ]
     },
     "execution_count": 3,
     "metadata": {},
     "output_type": "execute_result"
    }
   ],
   "source": [
    "extension = 'csv'\n",
    "pattern = f'*.{format(extension)}'\n",
    "all_filenames = [i for i in glob.iglob(pattern)]\n",
    "all_filenames"
   ]
  },
  {
   "cell_type": "code",
   "execution_count": 4,
   "metadata": {},
   "outputs": [],
   "source": [
    "#combine all files in the list\n",
    "combined_csv = pd.concat([pd.read_csv(f,sep=',') for f in all_filenames ])\n",
    "\n",
    "\n",
    "#export to csv\n",
    "combined_csv.to_csv( \"climateTwitterData.csv\", index=False)"
   ]
  },
  {
   "cell_type": "code",
   "execution_count": null,
   "metadata": {},
   "outputs": [],
   "source": []
  }
 ],
 "metadata": {
  "kernelspec": {
   "display_name": "Python 3",
   "language": "python",
   "name": "python3"
  },
  "language_info": {
   "codemirror_mode": {
    "name": "ipython",
    "version": 3
   },
   "file_extension": ".py",
   "mimetype": "text/x-python",
   "name": "python",
   "nbconvert_exporter": "python",
   "pygments_lexer": "ipython3",
   "version": "3.7.4"
  }
 },
 "nbformat": 4,
 "nbformat_minor": 2
}
