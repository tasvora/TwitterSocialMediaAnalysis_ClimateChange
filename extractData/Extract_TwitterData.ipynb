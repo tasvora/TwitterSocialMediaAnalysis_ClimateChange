{
 "cells": [
  {
   "cell_type": "code",
   "execution_count": 1,
   "metadata": {},
   "outputs": [],
   "source": [
    "import GetOldTweets3 as got\n",
    "import pandas as pd\n",
    "import tweepy as tw\n",
    "import matplotlib.pyplot as plt"
   ]
  },
  {
   "cell_type": "code",
   "execution_count": 2,
   "metadata": {},
   "outputs": [
    {
     "data": {
      "text/plain": [
       "'NewYork, USA'"
      ]
     },
     "execution_count": 2,
     "metadata": {},
     "output_type": "execute_result"
    }
   ],
   "source": [
    "search_terms = ['#climateStrike','#climatestrike','#climatechange','#GreenNewDeal','#climatecrisis','#climateAction','#FridaysForFuture',\n",
    "                '#environment','#globalwarming','#GlobalWarming','#ActOnClimate','#sustainability','#savetheplanet',\n",
    "               '#bushfiresAustralia','#bushfires']\n",
    "\n",
    "locationplace = \"NewYork\"\n",
    "locationcountry = \"USA\"\n",
    "nearLocation = locationplace +\", \"+locationcountry\n",
    "nearLocation"
   ]
  },
  {
   "cell_type": "code",
   "execution_count": 3,
   "metadata": {},
   "outputs": [
    {
     "name": "stdout",
     "output_type": "stream",
     "text": [
      "#climateStrike\n",
      "#climatestrike\n",
      "#climatechange\n",
      "#GreenNewDeal\n",
      "#climatecrisis\n",
      "#climateAction\n",
      "#FridaysForFuture\n",
      "#environment\n",
      "#globalwarming\n",
      "#GlobalWarming\n",
      "#ActOnClimate\n",
      "#sustainability\n",
      "#savetheplanet\n",
      "#bushfiresAustralia\n"
     ]
    },
    {
     "name": "stderr",
     "output_type": "stream",
     "text": [
      "c:\\users\\tasne\\envs\\newproject\\lib\\site-packages\\pandas\\core\\frame.py:7138: FutureWarning: Sorting because non-concatenation axis is not aligned. A future version\n",
      "of pandas will change to not sort by default.\n",
      "\n",
      "To accept the future behavior, pass 'sort=False'.\n",
      "\n",
      "To retain the current behavior and silence the warning, pass 'sort=True'.\n",
      "\n",
      "  sort=sort,\n"
     ]
    },
    {
     "name": "stdout",
     "output_type": "stream",
     "text": [
      "#bushfires\n",
      "#endoffossilfuels\n"
     ]
    }
   ],
   "source": [
    "## scrape data from twitter for the above search terms\n",
    "\n",
    "tweet_df_all = pd.DataFrame()\n",
    "for term in search_terms:\n",
    "    print(term)\n",
    "    tweetCriteria = got.manager.TweetCriteria().setQuerySearch(term)\\\n",
    "                                               .setSince(\"2019-01-01\")\\\n",
    "                                               .setUntil(\"2020-01-01\")\\\n",
    "                                               .setNear(\"NewYork, USA\")\\\n",
    "                                               .setWithin(\"350mi\")\n",
    "    tweet = got.manager.TweetManager.getTweets(tweetCriteria)\n",
    "    \n",
    "    tweet_list = [[tweet[x].id,\n",
    "                  tweet[x].author_id,\n",
    "                  tweet[x].text,\n",
    "                  tweet[x].retweets,\n",
    "                  tweet[x].permalink,\n",
    "                  tweet[x].date,\n",
    "                  tweet[x].formatted_date,\n",
    "                  tweet[x].favorites,\n",
    "                  tweet[x].mentions,\n",
    "                  tweet[x].hashtags,\n",
    "                  tweet[x].geo,\n",
    "                  tweet[x].urls\n",
    "                 ]for x in range(0, len(tweet))]\n",
    "    tweet_df = pd.DataFrame(tweet_list)\n",
    "    tweet_df['search_term'] = term\n",
    "    tweet_df['location'] = nearLocation\n",
    "    tweet_df_all = tweet_df_all.append(tweet_df)\n",
    "\n"
   ]
  },
  {
   "cell_type": "code",
   "execution_count": 4,
   "metadata": {},
   "outputs": [],
   "source": [
    "    \n",
    "tweet_df_all.columns = ['id','author_id','text','retweets','permalink','date','formatted_date','favorites','mentions','hashtags','geo','urls','search_term','location']\n",
    "#tweet_df_all = tweet_df_all[tweet_df_all['text'].notna()]\n",
    "saveFileLocation = \"../data/TwitterData/2019/all_tweets_\"+locationplace+\"_2019.csv\"\n",
    "tweet_df_all.to_csv(saveFileLocation, index=False)\n"
   ]
  },
  {
   "cell_type": "code",
   "execution_count": null,
   "metadata": {},
   "outputs": [],
   "source": []
  }
 ],
 "metadata": {
  "kernelspec": {
   "display_name": "Python 3",
   "language": "python",
   "name": "python3"
  },
  "language_info": {
   "codemirror_mode": {
    "name": "ipython",
    "version": 3
   },
   "file_extension": ".py",
   "mimetype": "text/x-python",
   "name": "python",
   "nbconvert_exporter": "python",
   "pygments_lexer": "ipython3",
   "version": "3.7.4"
  }
 },
 "nbformat": 4,
 "nbformat_minor": 2
}
